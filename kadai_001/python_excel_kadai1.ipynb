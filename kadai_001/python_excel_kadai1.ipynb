{
  "nbformat": 4,
  "nbformat_minor": 0,
  "metadata": {
    "colab": {
      "provenance": []
    },
    "kernelspec": {
      "name": "python3",
      "display_name": "Python 3"
    },
    "language_info": {
      "name": "python"
    }
  },
  "cells": [
    {
      "cell_type": "code",
      "execution_count": 14,
      "metadata": {
        "colab": {
          "base_uri": "https://localhost:8080/"
        },
        "id": "dPN3nkg7IKqX",
        "outputId": "0d17afc6-5ac4-4853-993e-f7a8516f1da8"
      },
      "outputs": [
        {
          "output_type": "stream",
          "name": "stdout",
          "text": [
            "Requirement already satisfied: numpy==1.26.4 in /usr/local/lib/python3.12/dist-packages (1.26.4)\n",
            "Requirement already satisfied: pandas==2.2.2 in /usr/local/lib/python3.12/dist-packages (2.2.2)\n",
            "Requirement already satisfied: openpyxl==3.0.10 in /usr/local/lib/python3.12/dist-packages (3.0.10)\n",
            "Requirement already satisfied: python-dateutil>=2.8.2 in /usr/local/lib/python3.12/dist-packages (from pandas==2.2.2) (2.9.0.post0)\n",
            "Requirement already satisfied: pytz>=2020.1 in /usr/local/lib/python3.12/dist-packages (from pandas==2.2.2) (2025.2)\n",
            "Requirement already satisfied: tzdata>=2022.7 in /usr/local/lib/python3.12/dist-packages (from pandas==2.2.2) (2025.2)\n",
            "Requirement already satisfied: et-xmlfile in /usr/local/lib/python3.12/dist-packages (from openpyxl==3.0.10) (2.0.0)\n",
            "Requirement already satisfied: six>=1.5 in /usr/local/lib/python3.12/dist-packages (from python-dateutil>=2.8.2->pandas==2.2.2) (1.17.0)\n"
          ]
        }
      ],
      "source": [
        "!pip install numpy==1.26.4 pandas==2.2.2 openpyxl==3.0.10\n",
        "\n",
        "from openpyxl import Workbook\n",
        "from openpyxl.styles import Font, Alignment\n",
        "from datetime import datetime\n",
        "\n",
        "wb = Workbook()\n",
        "ws = wb.active\n",
        "\n",
        "# スタイル定義\n",
        "bold = Font(bold=True)\n",
        "center = Alignment(horizontal='center')\n",
        "right = Alignment(horizontal='right')\n",
        "\n",
        "# ヘッダー・会社情報\n",
        "ws['B1'] = '請求書'; ws['A1'].font = Font(size=16, bold=True)\n",
        "ws['B3'] = '株式会社ABC'\n",
        "ws['B4'] = '〒101-0022 東京都千代田区神田練塀町300'\n",
        "ws['B5'] = 'TEL: 03-1234-5678   FAX: 03-1234-5678'\n",
        "ws['B6'] = '担当者名: 鈴木一郎 様'\n",
        "\n",
        "# 請求番号・日付\n",
        "ws['F3'], ws['G3'] = 'No.', '0001'\n",
        "ws['F4'], ws['G4'] = '日付', datetime.today().strftime('%Y/%m/%d')\n",
        "for cell in ['G3', 'G4']:\n",
        "    ws[cell].alignment = Alignment(horizontal='left')\n",
        "\n",
        "# 明細ヘッダー（B列から）\n",
        "for col, label in zip('BCDE', ['商品名', '数量', '単価', '金額']):\n",
        "    ws[f'{col}8'] = label\n",
        "    ws[f'{col}8'].font = bold\n",
        "    ws[f'{col}8'].alignment = center\n",
        "\n",
        "# 商品データ\n",
        "items = [['商品A', 1, 10000, 10000], ['商品B', 2, 12500, 25000]]\n",
        "for i, item in enumerate(items, start=9):\n",
        "    for col, val in zip('BCDE', item):\n",
        "        ws[f'{col}{i}'] = val\n",
        "        ws[f'{col}{i}'].alignment = right if col in 'BCD' else Alignment(horizontal='left')\n",
        "\n",
        "# 合計・税・税込（B列から始まるので、D列・E列にずらす）\n",
        "summary = [('合計', 35000), ('消費税', 3500), ('税込合計', 38500)]\n",
        "for i, (label, val) in enumerate(summary, start=13):\n",
        "    ws[f'D{i}'], ws[f'E{i}'] = label, val\n",
        "    ws[f'D{i}'].alignment = right\n",
        "    ws[f'E{i}'].alignment = right\n",
        "    ws[f'D{i}'].font = bold\n",
        "    ws[f'E{i}'].font = bold\n",
        "\n",
        "# 列幅\n",
        "for col, width in zip('BCDE', [20, 10, 12, 12]):\n",
        "    ws.column_dimensions[col].width = width\n",
        "ws.column_dimensions['F'].width = 8\n",
        "ws.column_dimensions['G'].width = 15\n",
        "\n",
        "# 保存\n",
        "filename = f'請求書_{datetime.today().strftime(\"%Y%m%d\")}.xlsx'\n",
        "wb.save(filename)\n",
        "\n"
      ]
    }
  ]
}